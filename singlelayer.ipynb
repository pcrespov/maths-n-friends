{
 "cells": [
  {
   "cell_type": "code",
   "execution_count": 1,
   "metadata": {},
   "outputs": [],
   "source": [
    "import numpy as np\n",
    "import sympy\n",
    "\n",
    "Z = 50\n",
    "gamma = 1\n",
    "\n",
    "RhoL = 0\n",
    "RhoR = 0\n",
    "\n",
    "\n",
    "\n",
    "z0, z1 = 0, 1\n",
    "h = z1 -z0\n",
    "zp = .75 * z0\n",
    "z = 0.25 * z0"
   ]
  },
  {
   "cell_type": "code",
   "execution_count": null,
   "metadata": {},
   "outputs": [],
   "source": [
    "def eval_u_obs():\n",
    "    s = 1\n",
    "    sigma = 1\n",
    "    return sigma, s\n",
    "\n",
    "def eval_j_obs(Z, z, zp):\n",
    "    s = 1\n",
    "    sigma = np.sign(z-zp)/Z\n",
    "    return sigma, s\n",
    "\n",
    "\n",
    "def eval_u_src(u):\n",
    "    s = 0.5* u\n",
    "    sigma = +1\n",
    "    return sigma, s\n",
    "\n",
    "\n",
    "def eval_j_src(j, Z):\n",
    "    s = 0.5 * Z * j\n",
    "    sigma = -1\n",
    "    return sigma, s\n",
    "\n",
    "\n",
    "\n",
    "def intra( sigma, s, z, sigmap, sp, zp, gamma, h):\n",
    "    assert z!=zp\n",
    "\n",
    "    D = 1 - RhoL*RhoR * np.exp(-2*gamma*h)\n",
    "    K = s*sp/D * np.exp(-gamma*np.abs(z-zp))\n",
    "\n",
    "    if zp < z:\n",
    "        return K* (1.0 -sigmap * RhoL * np.exp(-2*gamma*(z - z0))) * (1.0+sigma * RhoR * np.exp(-2*gamma*(z1 - z)))\n",
    "    return -K* (1.0 +sigma * RhoL * np.exp(-2*gamma*(z - z0))) * (sp - RhoR * np.exp(-2*gamma*(z1 - z)))\n"
   ]
  }
 ],
 "metadata": {
  "kernelspec": {
   "display_name": ".venv",
   "language": "python",
   "name": "python3"
  },
  "language_info": {
   "codemirror_mode": {
    "name": "ipython",
    "version": 3
   },
   "file_extension": ".py",
   "mimetype": "text/x-python",
   "name": "python",
   "nbconvert_exporter": "python",
   "pygments_lexer": "ipython3",
   "version": "3.8.1"
  },
  "orig_nbformat": 4,
  "vscode": {
   "interpreter": {
    "hash": "c85154abc5afef81891cf0375c403f8b280b17d0d7e62389f4319705f50bf2cc"
   }
  }
 },
 "nbformat": 4,
 "nbformat_minor": 2
}
