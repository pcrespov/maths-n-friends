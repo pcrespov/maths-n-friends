{
 "cells": [
  {
   "cell_type": "code",
   "execution_count": 1,
   "metadata": {},
   "outputs": [],
   "source": [
    "import numpy\n",
    "import sympy\n",
    "from sympy import pi, sin, cos, atan, simplify, symbols"
   ]
  },
  {
   "cell_type": "code",
   "execution_count": 2,
   "metadata": {},
   "outputs": [],
   "source": [
    "sympy.init_printing()"
   ]
  },
  {
   "cell_type": "markdown",
   "metadata": {},
   "source": [
    "<img src=\"geometry.JPG\" alt=\"Drawing\" style=\"width: 600px;\"/>\n",
    "\n",
    "Let us denote the sides of the pentagon and the square as $p$ and $s$, respectively"
   ]
  },
  {
   "cell_type": "code",
   "execution_count": 3,
   "metadata": {},
   "outputs": [],
   "source": [
    "p,s, alpha = symbols('p s alpha')"
   ]
  },
  {
   "cell_type": "markdown",
   "metadata": {},
   "source": [
    "The problem constraints the properties of both shapes by the intersection. Let us deduce the relation between their sides and the angled formed in CBU first. \n",
    "\n",
    "To start, let us take into account that [the interior angles of a regular pentagon](http://www.coolmath.com/reference/polygons-05-pentagons) are $3\\pi/5$, then the [isosceles triangle](https://en.wikipedia.org/wiki/Isosceles_triangle) formed in ABE will have interior angles $$\\frac{3\\pi}{5} + \\frac{\\pi}{5} + \\frac{\\pi}{5} = \\pi$$ \n",
    "\n",
    "Now, using this result in conjunction with the [law of sines](https://en.wikipedia.org/wiki/Law_of_sines), we obtain the relation between the shape's sides\n",
    "\n",
    "$$ \\frac{s}{p} = \\frac{\\sin \\frac{3\\pi}{5}}{\\sin\\frac{\\pi}{5}} $$"
   ]
  },
  {
   "cell_type": "markdown",
   "metadata": {},
   "source": [
    "Now, the $\\angle$ CBU can be computed by substracting the right angler from the upper right corner of the square by the *partial* internal angle of the pentagon, that is "
   ]
  },
  {
   "cell_type": "code",
   "execution_count": 4,
   "metadata": {},
   "outputs": [],
   "source": [
    "cbu = pi/2-(3*pi/5-pi/5)"
   ]
  },
  {
   "cell_type": "code",
   "execution_count": 5,
   "metadata": {},
   "outputs": [
    {
     "data": {
      "image/png": "[encoded data removed]",
      "text/latex": [
       "$\\displaystyle \\frac{\\pi}{10}$"
      ],
      "text/plain": [
       "π \n",
       "──\n",
       "10"
      ]
     },
     "execution_count": 5,
     "metadata": {},
     "output_type": "execute_result"
    }
   ],
   "source": [
    "cbu"
   ]
  },
  {
   "cell_type": "markdown",
   "metadata": {},
   "source": [
    "Now let us focus on the triangle CBU recalling that:\n",
    "- $\\angle$ CBU is $\\alpha = \\frac{\\pi}{10}$\n",
    "- side UB is $s$\n",
    "- side CB is $p$\n",
    "\n",
    "Using as hypothenus BC and $\\angle$ CBU, we can define a right triangle. The opposite side to $\\angle$ CBU is the same as the opposite angle of $\\angle$ CUB.\n",
    "\n",
    "This side can be computed taking advantage of the symmetry and the lengths of UV and CD sides. This leads to a new equality that we can use to find an alternate expression for the $s/p$ ratio\n",
    "\n",
    "$$ p\\sin\\alpha = \\frac{s - p}{2} \\implies \\frac{s}{p} = 2\\sin\\alpha + 1$$ \n",
    "\n",
    "Let us check, that it gives the same value as the expression before, that is\n",
    "$$ \\frac{s}{p} = \\frac{\\sin \\frac{3\\pi}{5}}{\\sin\\frac{\\pi}{5}} =  \\frac{\\sin 6\\alpha}{\\sin 2\\alpha}$$"
   ]
  },
  {
   "cell_type": "code",
   "execution_count": 6,
   "metadata": {},
   "outputs": [],
   "source": [
    "s2p_1 = sin(3*pi/5)/sin(pi/5)\n",
    "s2p_2= 2*sin(cbu)+1"
   ]
  },
  {
   "cell_type": "code",
   "execution_count": 7,
   "metadata": {},
   "outputs": [
    {
     "data": {
      "image/png": "[encoded data removed]",
      "text/latex": [
       "$\\displaystyle 1.61803398874989$"
      ],
      "text/plain": [
       "1.61803398874989"
      ]
     },
     "execution_count": 7,
     "metadata": {},
     "output_type": "execute_result"
    }
   ],
   "source": [
    "s2p_1.evalf()"
   ]
  },
  {
   "cell_type": "code",
   "execution_count": 8,
   "metadata": {},
   "outputs": [
    {
     "data": {
      "image/png": "[encoded data removed]",
      "text/latex": [
       "$\\displaystyle 1.61803398874989$"
      ],
      "text/plain": [
       "1.61803398874989"
      ]
     },
     "execution_count": 8,
     "metadata": {},
     "output_type": "execute_result"
    }
   ],
   "source": [
    "s2p_2.evalf()"
   ]
  },
  {
   "cell_type": "markdown",
   "metadata": {},
   "source": [
    "Finally, let us compute $\\angle$ CUB, which we denote $\\beta$, as the ratio between opossite and adjacent sides\n",
    "\n",
    "$$ \\tan\\beta = \\frac{p\\sin\\frac{\\pi}{10}}{s-p\\cos\\frac{\\pi}{10}} = \\frac{\\sin\\frac{\\pi}{10}}{\\frac{s}{p}-\\cos\\frac{\\pi}{10}} $$\n",
    "\n",
    "or analogously\n",
    "\n",
    "$$ \\tan\\beta =\\frac{(s-p)/2}{s-p\\cos\\frac{\\pi}{10}} = \\frac{1}{2} \\frac{\\frac{s}{p}-1}{\\frac{s}{p}-\\cos\\frac{\\pi}{10}} $$"
   ]
  },
  {
   "cell_type": "code",
   "execution_count": 9,
   "metadata": {},
   "outputs": [],
   "source": [
    "s2p = s2p_1"
   ]
  },
  {
   "cell_type": "code",
   "execution_count": 10,
   "metadata": {},
   "outputs": [],
   "source": [
    "tanb1 = sin(pi/10)/(s2p - cos(pi/10))"
   ]
  },
  {
   "cell_type": "code",
   "execution_count": 11,
   "metadata": {},
   "outputs": [
    {
     "data": {
      "image/png": "[encoded data removed]",
      "text/latex": [
       "$\\displaystyle \\frac{\\left(-1 + \\sqrt{5}\\right) \\sqrt{5 - \\sqrt{5}}}{\\sqrt{\\sqrt{5} + 5} \\left(- \\sqrt{2} \\sqrt{5 - \\sqrt{5}} + 4\\right)}$"
      ],
      "text/plain": [
       "                  ________      \n",
       "      (-1 + √5)⋅╲╱ 5 - √5       \n",
       "────────────────────────────────\n",
       "  ________ ⎛       ________    ⎞\n",
       "╲╱ √5 + 5 ⋅⎝- √2⋅╲╱ 5 - √5  + 4⎠"
      ]
     },
     "execution_count": 11,
     "metadata": {},
     "output_type": "execute_result"
    }
   ],
   "source": [
    "simplify(tanb1)"
   ]
  },
  {
   "cell_type": "code",
   "execution_count": 12,
   "metadata": {},
   "outputs": [],
   "source": [
    "tanb2 = (s2p-1)/(2*s2p - 2*cos(pi/10))"
   ]
  },
  {
   "cell_type": "code",
   "execution_count": 13,
   "metadata": {},
   "outputs": [
    {
     "data": {
      "image/png": "[encoded data removed]",
      "text/latex": [
       "$\\displaystyle \\frac{2 \\left(- \\sqrt{5 - \\sqrt{5}} + \\sqrt{\\sqrt{5} + 5}\\right)}{\\sqrt{\\sqrt{5} + 5} \\left(- \\sqrt{2} \\sqrt{5 - \\sqrt{5}} + 4\\right)}$"
      ],
      "text/plain": [
       "   ⎛    ________     ________⎞  \n",
       " 2⋅⎝- ╲╱ 5 - √5  + ╲╱ √5 + 5 ⎠  \n",
       "────────────────────────────────\n",
       "  ________ ⎛       ________    ⎞\n",
       "╲╱ √5 + 5 ⋅⎝- √2⋅╲╱ 5 - √5  + 4⎠"
      ]
     },
     "execution_count": 13,
     "metadata": {},
     "output_type": "execute_result"
    }
   ],
   "source": [
    "simplify(tanb2)"
   ]
  },
  {
   "cell_type": "code",
   "execution_count": 14,
   "metadata": {},
   "outputs": [
    {
     "data": {
      "image/png": "[encoded data removed]",
      "text/latex": [
       "$\\displaystyle 24.8587372057305$"
      ],
      "text/plain": [
       "24.8587372057305"
      ]
     },
     "execution_count": 14,
     "metadata": {},
     "output_type": "execute_result"
    }
   ],
   "source": [
    "atan(tanb1).evalf()*180/numpy.pi"
   ]
  },
  {
   "cell_type": "code",
   "execution_count": 15,
   "metadata": {},
   "outputs": [
    {
     "data": {
      "image/png": "[encoded data removed]",
      "text/latex": [
       "$\\displaystyle 24.8587372057305$"
      ],
      "text/plain": [
       "24.8587372057305"
      ]
     },
     "execution_count": 15,
     "metadata": {},
     "output_type": "execute_result"
    }
   ],
   "source": [
    "atan(tanb2).evalf()*180/numpy.pi"
   ]
  },
  {
   "cell_type": "code",
   "execution_count": null,
   "metadata": {},
   "outputs": [],
   "source": []
  }
 ],
 "metadata": {
  "kernelspec": {
   "display_name": "Python 3",
   "language": "python",
   "name": "python3"
  },
  "language_info": {
   "codemirror_mode": {
    "name": "ipython",
    "version": 3
   },
   "file_extension": ".py",
   "mimetype": "text/x-python",
   "name": "python",
   "nbconvert_exporter": "python",
   "pygments_lexer": "ipython3",
   "version": "3.6.5"
  }
 },
 "nbformat": 4,
 "nbformat_minor": 2
}
