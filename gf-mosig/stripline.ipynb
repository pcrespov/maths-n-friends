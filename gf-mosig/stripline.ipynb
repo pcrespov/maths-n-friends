{
 "metadata": {
  "language_info": {
   "codemirror_mode": {
    "name": "ipython",
    "version": 3
   },
   "file_extension": ".py",
   "mimetype": "text/x-python",
   "name": "python",
   "nbconvert_exporter": "python",
   "pygments_lexer": "ipython3",
   "version": "3.8.1-final"
  },
  "orig_nbformat": 2,
  "kernelspec": {
   "name": "python3",
   "display_name": "Python 3"
  }
 },
 "nbformat": 4,
 "nbformat_minor": 2,
 "cells": [
  {
   "source": [
    "Latest version in https://github.com/pcrespov/maths-n-friends/blob/main/gf-mosig/stripline.ipynb"
   ],
   "cell_type": "markdown",
   "metadata": {}
  },
  {
   "cell_type": "code",
   "execution_count": 1,
   "metadata": {},
   "outputs": [],
   "source": [
    "from sympy import *"
   ]
  },
  {
   "source": [
    "Let's define first variables and assumptions"
   ],
   "cell_type": "markdown",
   "metadata": {}
  },
  {
   "cell_type": "code",
   "execution_count": 2,
   "metadata": {},
   "outputs": [],
   "source": [
    "h1, h2 = symbols(\"h_1:3\", real=True, positive=True)\n",
    "z, d = symbols('z d', real=True)"
   ]
  },
  {
   "cell_type": "code",
   "execution_count": 3,
   "metadata": {},
   "outputs": [],
   "source": [
    "u1, u2, e1, e2, T1 = symbols('u_1 u_2 \\\\varepsilon_1 \\\\varepsilon_2 T_1', complex=True)"
   ]
  },
  {
   "cell_type": "code",
   "execution_count": 4,
   "metadata": {},
   "outputs": [],
   "source": [
    "A1, B1, A2, B2 = symbols('A_1 B_1 A_2 B_2', complex=True)"
   ]
  },
  {
   "cell_type": "code",
   "execution_count": 5,
   "metadata": {},
   "outputs": [],
   "source": [
    "all_symbols = [h1, h2, z, d, u1, u2, e1, e2, T1, A1, B1, A2, B2]"
   ]
  },
  {
   "source": [
    "We postulate the following expressions in the spectral domain:"
   ],
   "cell_type": "markdown",
   "metadata": {}
  },
  {
   "cell_type": "code",
   "execution_count": 6,
   "metadata": {},
   "outputs": [
    {
     "output_type": "execute_result",
     "data": {
      "text/plain": [
       "A_1*exp(-u_1*z) + B_1*exp(u_1*z) + T_1*exp(-u_1*Abs(d - z))"
      ],
      "text/latex": "$\\displaystyle A_{1} e^{- u_{1} z} + B_{1} e^{u_{1} z} + T_{1} e^{- u_{1} \\left|{d - z}\\right|}$"
     },
     "metadata": {},
     "execution_count": 6
    }
   ],
   "source": [
    "Ez1 = A1*exp(-u1*z) + B1*exp(u1*z) + T1 * exp(-u1*abs(z-d))\n",
    "Ez1"
   ]
  },
  {
   "cell_type": "code",
   "execution_count": 7,
   "metadata": {},
   "outputs": [
    {
     "output_type": "execute_result",
     "data": {
      "text/plain": [
       "-A_1*u_1*exp(-u_1*z) + B_1*u_1*exp(u_1*z) + T_1*u_1*exp(-u_1*Abs(d - z))*sign(d - z)"
      ],
      "text/latex": "$\\displaystyle - A_{1} u_{1} e^{- u_{1} z} + B_{1} u_{1} e^{u_{1} z} + T_{1} u_{1} e^{- u_{1} \\left|{d - z}\\right|} \\operatorname{sign}{\\left(d - z \\right)}$"
     },
     "metadata": {},
     "execution_count": 7
    }
   ],
   "source": [
    "dEz1 = diff(Ez1, z)\n",
    "dEz1"
   ]
  },
  {
   "cell_type": "code",
   "execution_count": 8,
   "metadata": {},
   "outputs": [
    {
     "output_type": "execute_result",
     "data": {
      "text/plain": [
       "A_2*exp(-u_2*z) + B_2*exp(u_2*z)"
      ],
      "text/latex": "$\\displaystyle A_{2} e^{- u_{2} z} + B_{2} e^{u_{2} z}$"
     },
     "metadata": {},
     "execution_count": 8
    }
   ],
   "source": [
    "Ez2 = A2*exp(-u2*z) + B2*exp(u2*z)\n",
    "Ez2"
   ]
  },
  {
   "cell_type": "code",
   "execution_count": 9,
   "metadata": {},
   "outputs": [
    {
     "output_type": "execute_result",
     "data": {
      "text/plain": [
       "-A_2*u_2*exp(-u_2*z) + B_2*u_2*exp(u_2*z)"
      ],
      "text/latex": "$\\displaystyle - A_{2} u_{2} e^{- u_{2} z} + B_{2} u_{2} e^{u_{2} z}$"
     },
     "metadata": {},
     "execution_count": 9
    }
   ],
   "source": [
    "dEz2 = diff(Ez2, z)\n",
    "dEz2"
   ]
  },
  {
   "source": [
    "### Boundary conditions\n"
   ],
   "cell_type": "markdown",
   "metadata": {}
  },
  {
   "source": [
    "1. $\\partial E_z/\\partial z=0$ in the upper ground plane $z=+h_1$"
   ],
   "cell_type": "markdown",
   "metadata": {}
  },
  {
   "cell_type": "code",
   "execution_count": 10,
   "metadata": {},
   "outputs": [
    {
     "output_type": "execute_result",
     "data": {
      "text/plain": [
       "-A_1*u_1*exp(-h_1*u_1) + B_1*u_1*exp(h_1*u_1) + T_1*u_1*exp(-u_1*Abs(d - h_1))*sign(d - h_1)"
      ],
      "text/latex": "$\\displaystyle - A_{1} u_{1} e^{- h_{1} u_{1}} + B_{1} u_{1} e^{h_{1} u_{1}} + T_{1} u_{1} e^{- u_{1} \\left|{d - h_{1}}\\right|} \\operatorname{sign}{\\left(d - h_{1} \\right)}$"
     },
     "metadata": {},
     "execution_count": 10
    }
   ],
   "source": [
    "bc_up = dEz1.subs(z, h1)\n",
    "bc_up"
   ]
  },
  {
   "source": [
    "2. $\\partial E_z/\\partial z=0$ in the lower ground plane $z=-h_2$"
   ],
   "cell_type": "markdown",
   "metadata": {}
  },
  {
   "cell_type": "code",
   "execution_count": 11,
   "metadata": {},
   "outputs": [
    {
     "output_type": "execute_result",
     "data": {
      "text/plain": [
       "-A_2*u_2*exp(h_2*u_2) + B_2*u_2*exp(-h_2*u_2)"
      ],
      "text/latex": "$\\displaystyle - A_{2} u_{2} e^{h_{2} u_{2}} + B_{2} u_{2} e^{- h_{2} u_{2}}$"
     },
     "metadata": {},
     "execution_count": 11
    }
   ],
   "source": [
    "bc_down = dEz2.subs(z, -h2)\n",
    "bc_down"
   ]
  },
  {
   "source": [
    "3. Continuity $\\epsilon E_z$ at the interface $z=0$ "
   ],
   "cell_type": "markdown",
   "metadata": {}
  },
  {
   "cell_type": "code",
   "execution_count": 12,
   "metadata": {},
   "outputs": [
    {
     "output_type": "execute_result",
     "data": {
      "text/plain": [
       "\\varepsilon_1*(A_1 + B_1 + T_1*exp(-u_1*Abs(d))) - \\varepsilon_2*(A_2 + B_2)"
      ],
      "text/latex": "$\\displaystyle \\varepsilon_1 \\left(A_{1} + B_{1} + T_{1} e^{- u_{1} \\left|{d}\\right|}\\right) - \\varepsilon_2 \\left(A_{2} + B_{2}\\right)$"
     },
     "metadata": {},
     "execution_count": 12
    }
   ],
   "source": [
    "bc_mid = e1*Ez1.subs(z,0) - e2*Ez2.subs(z,0)\n",
    "bc_mid"
   ]
  },
  {
   "source": [
    "4. Continutiy of $\\partial E_z / \\partial z$ at the interface $z=0$ (NOTE: there was a typo in the pdf!)"
   ],
   "cell_type": "markdown",
   "metadata": {}
  },
  {
   "cell_type": "code",
   "execution_count": 13,
   "metadata": {},
   "outputs": [
    {
     "output_type": "execute_result",
     "data": {
      "text/plain": [
       "-A_1*u_1 + A_2*u_2 + B_1*u_1 - B_2*u_2 + T_1*u_1*exp(-u_1*Abs(d))*sign(d)"
      ],
      "text/latex": "$\\displaystyle - A_{1} u_{1} + A_{2} u_{2} + B_{1} u_{1} - B_{2} u_{2} + T_{1} u_{1} e^{- u_{1} \\left|{d}\\right|} \\operatorname{sign}{\\left(d \\right)}$"
     },
     "metadata": {},
     "execution_count": 13
    }
   ],
   "source": [
    "bc_der_mid = dEz1.subs(z,0) - dEz2.subs(z,0)\n",
    "bc_der_mid"
   ]
  },
  {
   "source": [
    "### Solving the system of equations"
   ],
   "cell_type": "markdown",
   "metadata": {}
  },
  {
   "cell_type": "code",
   "execution_count": 14,
   "metadata": {},
   "outputs": [],
   "source": [
    "equations = [\n",
    "    bc_up, \n",
    "    bc_down,\n",
    "    bc_mid,\n",
    "    bc_der_mid\n",
    "]"
   ]
  },
  {
   "cell_type": "code",
   "execution_count": 15,
   "metadata": {},
   "outputs": [],
   "source": [
    "solution = linsolve(equations, A1, B1, A2, B2)"
   ]
  },
  {
   "cell_type": "code",
   "execution_count": 16,
   "metadata": {},
   "outputs": [],
   "source": [
    "(a1, b1, a2, b2) = next(iter(solution))"
   ]
  },
  {
   "cell_type": "code",
   "execution_count": 17,
   "metadata": {},
   "outputs": [
    {
     "output_type": "execute_result",
     "data": {
      "text/plain": [
       "-T_1*(\\varepsilon_1*u_2*exp(u_1*(h_1 + Abs(d - h_1))) - \\varepsilon_1*u_2*exp(u_1*Abs(d))*sign(d - h_1) + \\varepsilon_1*u_2*exp(2*h_2*u_2 + u_1*Abs(d))*sign(d - h_1) - \\varepsilon_1*u_2*exp(h_1*u_1 + 2*h_2*u_2 + u_1*Abs(d - h_1)) + \\varepsilon_2*u_1*exp(u_1*(h_1 + Abs(d - h_1)))*sign(d) - \\varepsilon_2*u_1*exp(u_1*Abs(d))*sign(d - h_1) - \\varepsilon_2*u_1*exp(2*h_2*u_2 + u_1*Abs(d))*sign(d - h_1) + \\varepsilon_2*u_1*exp(h_1*u_1 + 2*h_2*u_2 + u_1*Abs(d - h_1))*sign(d))*exp(-u_1*(-h_1 + Abs(d) + Abs(d - h_1)))/(\\varepsilon_1*u_2*exp(2*h_1*u_1) - \\varepsilon_1*u_2*exp(2*h_2*u_2) - \\varepsilon_1*u_2*exp(2*h_1*u_1 + 2*h_2*u_2) + \\varepsilon_1*u_2 - \\varepsilon_2*u_1*exp(2*h_1*u_1) + \\varepsilon_2*u_1*exp(2*h_2*u_2) - \\varepsilon_2*u_1*exp(2*h_1*u_1 + 2*h_2*u_2) + \\varepsilon_2*u_1)"
      ],
      "text/latex": "$\\displaystyle - \\frac{T_{1} \\left(\\varepsilon_1 u_{2} e^{u_{1} \\left(h_{1} + \\left|{d - h_{1}}\\right|\\right)} - \\varepsilon_1 u_{2} e^{u_{1} \\left|{d}\\right|} \\operatorname{sign}{\\left(d - h_{1} \\right)} + \\varepsilon_1 u_{2} e^{2 h_{2} u_{2} + u_{1} \\left|{d}\\right|} \\operatorname{sign}{\\left(d - h_{1} \\right)} - \\varepsilon_1 u_{2} e^{h_{1} u_{1} + 2 h_{2} u_{2} + u_{1} \\left|{d - h_{1}}\\right|} + \\varepsilon_2 u_{1} e^{u_{1} \\left(h_{1} + \\left|{d - h_{1}}\\right|\\right)} \\operatorname{sign}{\\left(d \\right)} - \\varepsilon_2 u_{1} e^{u_{1} \\left|{d}\\right|} \\operatorname{sign}{\\left(d - h_{1} \\right)} - \\varepsilon_2 u_{1} e^{2 h_{2} u_{2} + u_{1} \\left|{d}\\right|} \\operatorname{sign}{\\left(d - h_{1} \\right)} + \\varepsilon_2 u_{1} e^{h_{1} u_{1} + 2 h_{2} u_{2} + u_{1} \\left|{d - h_{1}}\\right|} \\operatorname{sign}{\\left(d \\right)}\\right) e^{- u_{1} \\left(- h_{1} + \\left|{d}\\right| + \\left|{d - h_{1}}\\right|\\right)}}{\\varepsilon_1 u_{2} e^{2 h_{1} u_{1}} - \\varepsilon_1 u_{2} e^{2 h_{2} u_{2}} - \\varepsilon_1 u_{2} e^{2 h_{1} u_{1} + 2 h_{2} u_{2}} + \\varepsilon_1 u_{2} - \\varepsilon_2 u_{1} e^{2 h_{1} u_{1}} + \\varepsilon_2 u_{1} e^{2 h_{2} u_{2}} - \\varepsilon_2 u_{1} e^{2 h_{1} u_{1} + 2 h_{2} u_{2}} + \\varepsilon_2 u_{1}}$"
     },
     "metadata": {},
     "execution_count": 17
    }
   ],
   "source": [
    "a1"
   ]
  },
  {
   "cell_type": "code",
   "execution_count": 18,
   "metadata": {},
   "outputs": [
    {
     "output_type": "execute_result",
     "data": {
      "text/plain": [
       "T_1*\\varepsilon_1*u_1*(-(1 - exp(2*h_1*u_1))*(exp(u_1*(h_1 + Abs(d)))*sign(d - h_1) + exp(u_1*Abs(d - h_1))) - (exp(u_1*(h_1 + Abs(d)))*sign(d - h_1) - exp(u_1*Abs(d - h_1))*sign(d))*(exp(2*h_1*u_1) + 1))*exp(u_1*(-Abs(d) - Abs(d - h_1)))/(-\\varepsilon_1*u_2*(exp(2*h_1*u_1) + 1) - \\varepsilon_2*u_1*(1 - exp(2*h_1*u_1)) + (\\varepsilon_1*u_2*(exp(2*h_1*u_1) + 1) - \\varepsilon_2*u_1*(1 - exp(2*h_1*u_1)))*exp(2*h_2*u_2))"
      ],
      "text/latex": "$\\displaystyle \\frac{T_{1} \\varepsilon_1 u_{1} \\left(- \\left(1 - e^{2 h_{1} u_{1}}\\right) \\left(e^{u_{1} \\left(h_{1} + \\left|{d}\\right|\\right)} \\operatorname{sign}{\\left(d - h_{1} \\right)} + e^{u_{1} \\left|{d - h_{1}}\\right|}\\right) - \\left(e^{u_{1} \\left(h_{1} + \\left|{d}\\right|\\right)} \\operatorname{sign}{\\left(d - h_{1} \\right)} - e^{u_{1} \\left|{d - h_{1}}\\right|} \\operatorname{sign}{\\left(d \\right)}\\right) \\left(e^{2 h_{1} u_{1}} + 1\\right)\\right) e^{u_{1} \\left(- \\left|{d}\\right| - \\left|{d - h_{1}}\\right|\\right)}}{- \\varepsilon_1 u_{2} \\left(e^{2 h_{1} u_{1}} + 1\\right) - \\varepsilon_2 u_{1} \\left(1 - e^{2 h_{1} u_{1}}\\right) + \\left(\\varepsilon_1 u_{2} \\left(e^{2 h_{1} u_{1}} + 1\\right) - \\varepsilon_2 u_{1} \\left(1 - e^{2 h_{1} u_{1}}\\right)\\right) e^{2 h_{2} u_{2}}}$"
     },
     "metadata": {},
     "execution_count": 18
    }
   ],
   "source": [
    "a2"
   ]
  },
  {
   "cell_type": "code",
   "execution_count": 19,
   "metadata": {},
   "outputs": [
    {
     "output_type": "execute_result",
     "data": {
      "text/plain": [
       "-T_1*(\\varepsilon_1*u_2*exp(u_1*(h_1 + Abs(d)))*sign(d - h_1) + \\varepsilon_1*u_2*exp(u_1*Abs(d - h_1)) - \\varepsilon_1*u_2*exp(2*h_2*u_2 + u_1*Abs(d - h_1)) - \\varepsilon_1*u_2*exp(h_1*u_1 + 2*h_2*u_2 + u_1*Abs(d))*sign(d - h_1) - \\varepsilon_2*u_1*exp(u_1*(h_1 + Abs(d)))*sign(d - h_1) + \\varepsilon_2*u_1*exp(u_1*Abs(d - h_1))*sign(d) + \\varepsilon_2*u_1*exp(2*h_2*u_2 + u_1*Abs(d - h_1))*sign(d) - \\varepsilon_2*u_1*exp(h_1*u_1 + 2*h_2*u_2 + u_1*Abs(d))*sign(d - h_1))*exp(-u_1*(Abs(d) + Abs(d - h_1)))/(\\varepsilon_1*u_2*exp(2*h_1*u_1) - \\varepsilon_1*u_2*exp(2*h_2*u_2) - \\varepsilon_1*u_2*exp(2*h_1*u_1 + 2*h_2*u_2) + \\varepsilon_1*u_2 - \\varepsilon_2*u_1*exp(2*h_1*u_1) + \\varepsilon_2*u_1*exp(2*h_2*u_2) - \\varepsilon_2*u_1*exp(2*h_1*u_1 + 2*h_2*u_2) + \\varepsilon_2*u_1)"
      ],
      "text/latex": "$\\displaystyle - \\frac{T_{1} \\left(\\varepsilon_1 u_{2} e^{u_{1} \\left(h_{1} + \\left|{d}\\right|\\right)} \\operatorname{sign}{\\left(d - h_{1} \\right)} + \\varepsilon_1 u_{2} e^{u_{1} \\left|{d - h_{1}}\\right|} - \\varepsilon_1 u_{2} e^{2 h_{2} u_{2} + u_{1} \\left|{d - h_{1}}\\right|} - \\varepsilon_1 u_{2} e^{h_{1} u_{1} + 2 h_{2} u_{2} + u_{1} \\left|{d}\\right|} \\operatorname{sign}{\\left(d - h_{1} \\right)} - \\varepsilon_2 u_{1} e^{u_{1} \\left(h_{1} + \\left|{d}\\right|\\right)} \\operatorname{sign}{\\left(d - h_{1} \\right)} + \\varepsilon_2 u_{1} e^{u_{1} \\left|{d - h_{1}}\\right|} \\operatorname{sign}{\\left(d \\right)} + \\varepsilon_2 u_{1} e^{2 h_{2} u_{2} + u_{1} \\left|{d - h_{1}}\\right|} \\operatorname{sign}{\\left(d \\right)} - \\varepsilon_2 u_{1} e^{h_{1} u_{1} + 2 h_{2} u_{2} + u_{1} \\left|{d}\\right|} \\operatorname{sign}{\\left(d - h_{1} \\right)}\\right) e^{- u_{1} \\left(\\left|{d}\\right| + \\left|{d - h_{1}}\\right|\\right)}}{\\varepsilon_1 u_{2} e^{2 h_{1} u_{1}} - \\varepsilon_1 u_{2} e^{2 h_{2} u_{2}} - \\varepsilon_1 u_{2} e^{2 h_{1} u_{1} + 2 h_{2} u_{2}} + \\varepsilon_1 u_{2} - \\varepsilon_2 u_{1} e^{2 h_{1} u_{1}} + \\varepsilon_2 u_{1} e^{2 h_{2} u_{2}} - \\varepsilon_2 u_{1} e^{2 h_{1} u_{1} + 2 h_{2} u_{2}} + \\varepsilon_2 u_{1}}$"
     },
     "metadata": {},
     "execution_count": 19
    }
   ],
   "source": [
    "b1"
   ]
  },
  {
   "cell_type": "code",
   "execution_count": 20,
   "metadata": {},
   "outputs": [
    {
     "output_type": "execute_result",
     "data": {
      "text/plain": [
       "T_1*\\varepsilon_1*u_1*(-(1 - exp(2*h_1*u_1))*(exp(u_1*(h_1 + Abs(d)))*sign(d - h_1) + exp(u_1*Abs(d - h_1))) - (exp(u_1*(h_1 + Abs(d)))*sign(d - h_1) - exp(u_1*Abs(d - h_1))*sign(d))*(exp(2*h_1*u_1) + 1))*exp(2*h_2*u_2 - u_1*Abs(d) - u_1*Abs(d - h_1))/(-\\varepsilon_1*u_2*(exp(2*h_1*u_1) + 1) - \\varepsilon_2*u_1*(1 - exp(2*h_1*u_1)) + (\\varepsilon_1*u_2*(exp(2*h_1*u_1) + 1) - \\varepsilon_2*u_1*(1 - exp(2*h_1*u_1)))*exp(2*h_2*u_2))"
      ],
      "text/latex": "$\\displaystyle \\frac{T_{1} \\varepsilon_1 u_{1} \\left(- \\left(1 - e^{2 h_{1} u_{1}}\\right) \\left(e^{u_{1} \\left(h_{1} + \\left|{d}\\right|\\right)} \\operatorname{sign}{\\left(d - h_{1} \\right)} + e^{u_{1} \\left|{d - h_{1}}\\right|}\\right) - \\left(e^{u_{1} \\left(h_{1} + \\left|{d}\\right|\\right)} \\operatorname{sign}{\\left(d - h_{1} \\right)} - e^{u_{1} \\left|{d - h_{1}}\\right|} \\operatorname{sign}{\\left(d \\right)}\\right) \\left(e^{2 h_{1} u_{1}} + 1\\right)\\right) e^{2 h_{2} u_{2} - u_{1} \\left|{d}\\right| - u_{1} \\left|{d - h_{1}}\\right|}}{- \\varepsilon_1 u_{2} \\left(e^{2 h_{1} u_{1}} + 1\\right) - \\varepsilon_2 u_{1} \\left(1 - e^{2 h_{1} u_{1}}\\right) + \\left(\\varepsilon_1 u_{2} \\left(e^{2 h_{1} u_{1}} + 1\\right) - \\varepsilon_2 u_{1} \\left(1 - e^{2 h_{1} u_{1}}\\right)\\right) e^{2 h_{2} u_{2}}}$"
     },
     "metadata": {},
     "execution_count": 20
    }
   ],
   "source": [
    "b2"
   ]
  },
  {
   "cell_type": "code",
   "execution_count": 21,
   "metadata": {},
   "outputs": [],
   "source": [
    "import pickle\n",
    "pickle.dump([a1, a2, b1, b2] + all_symbols , open(\"stripline_solution.pkl\", \"wb\"))"
   ]
  },
  {
   "source": [
    "## Source in layer 1\n",
    "\n",
    "We impose that $-h_2 < 0 \\le d < h_1$"
   ],
   "cell_type": "markdown",
   "metadata": {}
  },
  {
   "cell_type": "code",
   "execution_count": 22,
   "metadata": {},
   "outputs": [],
   "source": [
    "assume_dp = Q.negative(d-h1) & Q.positive(d)"
   ]
  },
  {
   "cell_type": "code",
   "execution_count": 23,
   "metadata": {},
   "outputs": [
    {
     "output_type": "execute_result",
     "data": {
      "text/plain": [
       "-T_1*(exp(2*d*u_1)*exp(-2*h_1*u_1) + 1)*(\\varepsilon_1*u_2*(exp(2*h_2*u_2) - 1) + \\varepsilon_2*u_1*(-exp(2*h_2*u_2) - 1))*exp(-d*u_1)*exp(2*h_1*u_1)/(\\varepsilon_1*u_2*(exp(2*h_1*u_1)*exp(2*h_2*u_2) - exp(2*h_1*u_1) + exp(2*h_2*u_2) - 1) + \\varepsilon_2*u_1*(exp(2*h_1*u_1)*exp(2*h_2*u_2) + exp(2*h_1*u_1) - exp(2*h_2*u_2) - 1))"
      ],
      "text/latex": "$\\displaystyle - \\frac{T_{1} \\left(e^{2 d u_{1}} e^{- 2 h_{1} u_{1}} + 1\\right) \\left(\\varepsilon_1 u_{2} \\left(e^{2 h_{2} u_{2}} - 1\\right) + \\varepsilon_2 u_{1} \\left(- e^{2 h_{2} u_{2}} - 1\\right)\\right) e^{- d u_{1}} e^{2 h_{1} u_{1}}}{\\varepsilon_1 u_{2} \\left(e^{2 h_{1} u_{1}} e^{2 h_{2} u_{2}} - e^{2 h_{1} u_{1}} + e^{2 h_{2} u_{2}} - 1\\right) + \\varepsilon_2 u_{1} \\left(e^{2 h_{1} u_{1}} e^{2 h_{2} u_{2}} + e^{2 h_{1} u_{1}} - e^{2 h_{2} u_{2}} - 1\\right)}$"
     },
     "metadata": {},
     "execution_count": 23
    }
   ],
   "source": [
    "A1_dp = collect(factor(simplify(refine(a1, assume_dp))), [e1*u2, e2*u1])\n",
    "A1_dp "
   ]
  },
  {
   "cell_type": "code",
   "execution_count": 29,
   "metadata": {},
   "outputs": [
    {
     "output_type": "execute_result",
     "data": {
      "text/plain": [
       "T_1*(\\varepsilon_1*u_2*(-exp(2*d*u_1) - exp(2*h_2*u_2) + exp(2*d*u_1 + 2*h_2*u_2) + 1) + \\varepsilon_2*u_1*(exp(2*d*u_1) + exp(2*h_2*u_2) + exp(2*d*u_1 + 2*h_2*u_2) + 1))*exp(-d*u_1)/(\\varepsilon_1*u_2*(-exp(2*h_1*u_1) + exp(2*h_2*u_2) + exp(2*h_1*u_1 + 2*h_2*u_2) - 1) + \\varepsilon_2*u_1*(exp(2*h_1*u_1) - exp(2*h_2*u_2) + exp(2*h_1*u_1 + 2*h_2*u_2) - 1))"
      ],
      "text/latex": "$\\displaystyle \\frac{T_{1} \\left(\\varepsilon_1 u_{2} \\left(- e^{2 d u_{1}} - e^{2 h_{2} u_{2}} + e^{2 d u_{1} + 2 h_{2} u_{2}} + 1\\right) + \\varepsilon_2 u_{1} \\left(e^{2 d u_{1}} + e^{2 h_{2} u_{2}} + e^{2 d u_{1} + 2 h_{2} u_{2}} + 1\\right)\\right) e^{- d u_{1}}}{\\varepsilon_1 u_{2} \\left(- e^{2 h_{1} u_{1}} + e^{2 h_{2} u_{2}} + e^{2 h_{1} u_{1} + 2 h_{2} u_{2}} - 1\\right) + \\varepsilon_2 u_{1} \\left(e^{2 h_{1} u_{1}} - e^{2 h_{2} u_{2}} + e^{2 h_{1} u_{1} + 2 h_{2} u_{2}} - 1\\right)}$"
     },
     "metadata": {},
     "execution_count": 29
    }
   ],
   "source": [
    "B1_dp  = collect(simplify(refine(b1, assume_dp)), [e1*u2, e2*u1])\n",
    "B1_dp"
   ]
  },
  {
   "cell_type": "code",
   "execution_count": 24,
   "metadata": {},
   "outputs": [
    {
     "output_type": "execute_result",
     "data": {
      "text/plain": [
       "2*T_1*\\varepsilon_1*u_1*(exp(2*d*u_1) + exp(2*h_1*u_1))*exp(-d*u_1)/(\\varepsilon_1*u_2*(-exp(2*h_1*u_1) + exp(2*h_2*u_2) + exp(2*h_1*u_1 + 2*h_2*u_2) - 1) + \\varepsilon_2*u_1*(exp(2*h_1*u_1) - exp(2*h_2*u_2) + exp(2*h_1*u_1 + 2*h_2*u_2) - 1))"
      ],
      "text/latex": "$\\displaystyle \\frac{2 T_{1} \\varepsilon_1 u_{1} \\left(e^{2 d u_{1}} + e^{2 h_{1} u_{1}}\\right) e^{- d u_{1}}}{\\varepsilon_1 u_{2} \\left(- e^{2 h_{1} u_{1}} + e^{2 h_{2} u_{2}} + e^{2 h_{1} u_{1} + 2 h_{2} u_{2}} - 1\\right) + \\varepsilon_2 u_{1} \\left(e^{2 h_{1} u_{1}} - e^{2 h_{2} u_{2}} + e^{2 h_{1} u_{1} + 2 h_{2} u_{2}} - 1\\right)}$"
     },
     "metadata": {},
     "execution_count": 24
    }
   ],
   "source": [
    "A2_dp  = collect(simplify(refine(a2, assume_dp)), [e1*u2, e2*u1])\n",
    "A2_dp"
   ]
  },
  {
   "cell_type": "code",
   "execution_count": 25,
   "metadata": {},
   "outputs": [
    {
     "output_type": "execute_result",
     "data": {
      "text/plain": [
       "2*T_1*\\varepsilon_1*u_1*(exp(2*d*u_1) + exp(2*h_1*u_1))*exp(-d*u_1 + 2*h_2*u_2)/(\\varepsilon_1*u_2*(-exp(2*h_1*u_1) + exp(2*h_2*u_2) + exp(2*h_1*u_1 + 2*h_2*u_2) - 1) + \\varepsilon_2*u_1*(exp(2*h_1*u_1) - exp(2*h_2*u_2) + exp(2*h_1*u_1 + 2*h_2*u_2) - 1))"
      ],
      "text/latex": "$\\displaystyle \\frac{2 T_{1} \\varepsilon_1 u_{1} \\left(e^{2 d u_{1}} + e^{2 h_{1} u_{1}}\\right) e^{- d u_{1} + 2 h_{2} u_{2}}}{\\varepsilon_1 u_{2} \\left(- e^{2 h_{1} u_{1}} + e^{2 h_{2} u_{2}} + e^{2 h_{1} u_{1} + 2 h_{2} u_{2}} - 1\\right) + \\varepsilon_2 u_{1} \\left(e^{2 h_{1} u_{1}} - e^{2 h_{2} u_{2}} + e^{2 h_{1} u_{1} + 2 h_{2} u_{2}} - 1\\right)}$"
     },
     "metadata": {},
     "execution_count": 25
    }
   ],
   "source": [
    "B2_dp  = collect(simplify(refine(b2, assume_dp)), [e1*u2, e2*u1])\n",
    "B2_dp"
   ]
  },
  {
   "source": [
    "All have same denominator and"
   ],
   "cell_type": "markdown",
   "metadata": {}
  },
  {
   "cell_type": "code",
   "execution_count": 26,
   "metadata": {},
   "outputs": [
    {
     "output_type": "execute_result",
     "data": {
      "text/plain": [
       "exp(d*u_1)*exp(-d*u_1 + 2*h_2*u_2)"
      ],
      "text/latex": "$\\displaystyle e^{d u_{1}} e^{- d u_{1} + 2 h_{2} u_{2}}$"
     },
     "metadata": {},
     "execution_count": 26
    }
   ],
   "source": [
    "B2_dp/A2_dp"
   ]
  },
  {
   "source": [
    "## Validation of results for $B_1$ \n",
    "\n",
    "Let's compare the result by Mosig on $B_1$."
   ],
   "cell_type": "markdown",
   "metadata": {}
  },
  {
   "cell_type": "code",
   "execution_count": 27,
   "metadata": {},
   "outputs": [
    {
     "output_type": "execute_result",
     "data": {
      "text/plain": [
       "T_1*(\\varepsilon_1*u_2*sinh(d*u_1)*tanh(h_2*u_2) + \\varepsilon_2*u_1*cosh(d*u_1))*exp(-h_1*u_1)/((\\varepsilon_1*u_2*tanh(h_2*u_2) + \\varepsilon_2*u_1*tanh(h_1*u_1))*cosh(h_1*u_1))"
      ],
      "text/latex": "$\\displaystyle \\frac{T_{1} \\left(\\varepsilon_1 u_{2} \\sinh{\\left(d u_{1} \\right)} \\tanh{\\left(h_{2} u_{2} \\right)} + \\varepsilon_2 u_{1} \\cosh{\\left(d u_{1} \\right)}\\right) e^{- h_{1} u_{1}}}{\\left(\\varepsilon_1 u_{2} \\tanh{\\left(h_{2} u_{2} \\right)} + \\varepsilon_2 u_{1} \\tanh{\\left(h_{1} u_{1} \\right)}\\right) \\cosh{\\left(h_{1} u_{1} \\right)}}$"
     },
     "metadata": {},
     "execution_count": 27
    }
   ],
   "source": [
    "B1_mosig = T1*(e2*u1*cosh(u1*d) + e1*u2 * tanh(u2*h2)*sinh(u1*d) ) /( (exp(u1*h1)*cosh(u1*h1)) * (e2*u1 * tanh(u1*h1) + e1*u2*tanh(u2*h2)))\n",
    "B1_mosig"
   ]
  },
  {
   "source": [
    "First we express this in terms of exponentials\n"
   ],
   "cell_type": "markdown",
   "metadata": {}
  },
  {
   "cell_type": "code",
   "execution_count": 28,
   "metadata": {},
   "outputs": [
    {
     "output_type": "execute_result",
     "data": {
      "text/plain": [
       "T_1*(\\varepsilon_1*u_2*(1 - exp(2*d*u_1))*(1 - exp(2*h_2*u_2)) + \\varepsilon_2*u_1*(exp(2*d*u_1) + 1)*(exp(2*h_2*u_2) + 1))*exp(-d*u_1)/(-\\varepsilon_1*u_2*(1 - exp(2*h_2*u_2))*(exp(2*h_1*u_1) + 1) - \\varepsilon_2*u_1*(1 - exp(2*h_1*u_1))*(exp(2*h_2*u_2) + 1))"
      ],
      "text/latex": "$\\displaystyle \\frac{T_{1} \\left(\\varepsilon_1 u_{2} \\left(1 - e^{2 d u_{1}}\\right) \\left(1 - e^{2 h_{2} u_{2}}\\right) + \\varepsilon_2 u_{1} \\left(e^{2 d u_{1}} + 1\\right) \\left(e^{2 h_{2} u_{2}} + 1\\right)\\right) e^{- d u_{1}}}{- \\varepsilon_1 u_{2} \\left(1 - e^{2 h_{2} u_{2}}\\right) \\left(e^{2 h_{1} u_{1}} + 1\\right) - \\varepsilon_2 u_{1} \\left(1 - e^{2 h_{1} u_{1}}\\right) \\left(e^{2 h_{2} u_{2}} + 1\\right)}$"
     },
     "metadata": {},
     "execution_count": 28
    }
   ],
   "source": [
    "B1_mosig_exp = simplify(B1_mosig.rewrite(exp))\n",
    "B1_mosig_exp"
   ]
  },
  {
   "source": [
    "which now should be compared to the solution obtained above"
   ],
   "cell_type": "markdown",
   "metadata": {}
  },
  {
   "cell_type": "code",
   "execution_count": 44,
   "metadata": {},
   "outputs": [
    {
     "output_type": "execute_result",
     "data": {
      "text/plain": [
       "T_1*(\\varepsilon_1*u_2*(-exp(2*d*u_1) - exp(2*h_2*u_2) + exp(2*d*u_1 + 2*h_2*u_2) + 1) + \\varepsilon_2*u_1*(exp(2*d*u_1) + exp(2*h_2*u_2) + exp(2*d*u_1 + 2*h_2*u_2) + 1))*exp(-d*u_1)/(\\varepsilon_1*u_2*(-exp(2*h_1*u_1) + exp(2*h_2*u_2) + exp(2*h_1*u_1 + 2*h_2*u_2) - 1) + \\varepsilon_2*u_1*(exp(2*h_1*u_1) - exp(2*h_2*u_2) + exp(2*h_1*u_1 + 2*h_2*u_2) - 1))"
      ],
      "text/latex": "$\\displaystyle \\frac{T_{1} \\left(\\varepsilon_1 u_{2} \\left(- e^{2 d u_{1}} - e^{2 h_{2} u_{2}} + e^{2 d u_{1} + 2 h_{2} u_{2}} + 1\\right) + \\varepsilon_2 u_{1} \\left(e^{2 d u_{1}} + e^{2 h_{2} u_{2}} + e^{2 d u_{1} + 2 h_{2} u_{2}} + 1\\right)\\right) e^{- d u_{1}}}{\\varepsilon_1 u_{2} \\left(- e^{2 h_{1} u_{1}} + e^{2 h_{2} u_{2}} + e^{2 h_{1} u_{1} + 2 h_{2} u_{2}} - 1\\right) + \\varepsilon_2 u_{1} \\left(e^{2 h_{1} u_{1}} - e^{2 h_{2} u_{2}} + e^{2 h_{1} u_{1} + 2 h_{2} u_{2}} - 1\\right)}$"
     },
     "metadata": {},
     "execution_count": 44
    }
   ],
   "source": [
    "B1_dp"
   ]
  },
  {
   "source": [
    "Notice that the expressions above keep the same structure, that is\n",
    "$$\n",
    "T_1 e^{-d u_1} \\frac{\\varepsilon_1 u_2  N_1(du_1, h_2u_2) + \\varepsilon_2 u_1 N_2(du_1, h_2u_2) }{\\varepsilon_1 u_2 D_1(h_1u_1,h_2u_2) + \\varepsilon_2 u_1 D_2(h_1u_1, h_2u_2)  }\n",
    "$$\n",
    "\n",
    "so now we can try dividing them"
   ],
   "cell_type": "markdown",
   "metadata": {}
  },
  {
   "cell_type": "code",
   "execution_count": 30,
   "metadata": {},
   "outputs": [
    {
     "output_type": "execute_result",
     "data": {
      "text/plain": [
       "1"
      ],
      "text/latex": "$\\displaystyle 1$"
     },
     "metadata": {},
     "execution_count": 30
    }
   ],
   "source": [
    "simplify(B1_dp/B1_mosig_exp)"
   ]
  },
  {
   "source": [
    "$\\Box$    *quod erat demonstrandum*"
   ],
   "cell_type": "markdown",
   "metadata": {}
  },
  {
   "source": [
    "## Spectral E-field\n"
   ],
   "cell_type": "markdown",
   "metadata": {}
  },
  {
   "cell_type": "code",
   "execution_count": 41,
   "metadata": {},
   "outputs": [
    {
     "output_type": "execute_result",
     "data": {
      "text/plain": [
       "A_1*exp(-u_1*z) + B_1*exp(u_1*z) + T_1*exp(-u_1*Abs(d - z))"
      ],
      "text/latex": "$\\displaystyle A_{1} e^{- u_{1} z} + B_{1} e^{u_{1} z} + T_{1} e^{- u_{1} \\left|{d - z}\\right|}$"
     },
     "metadata": {},
     "execution_count": 41
    }
   ],
   "source": [
    "Ez1"
   ]
  },
  {
   "cell_type": "code",
   "execution_count": 48,
   "metadata": {},
   "outputs": [
    {
     "output_type": "execute_result",
     "data": {
      "text/plain": [
       "T_1*(-(exp(2*d*u_1)*exp(-2*h_1*u_1) + 1)*(\\varepsilon_1*u_2*(exp(2*h_2*u_2) - 1) + \\varepsilon_2*u_1*(-exp(2*h_2*u_2) - 1))*exp(-d*u_1)*exp(2*h_1*u_1)*exp(-u_1*z)/(\\varepsilon_1*u_2*(exp(2*h_1*u_1)*exp(2*h_2*u_2) - exp(2*h_1*u_1) + exp(2*h_2*u_2) - 1) + \\varepsilon_2*u_1*(exp(2*h_1*u_1)*exp(2*h_2*u_2) + exp(2*h_1*u_1) - exp(2*h_2*u_2) - 1)) + (\\varepsilon_1*u_2*(exp(2*d*u_1) + exp(2*h_2*u_2) - exp(2*d*u_1 + 2*h_2*u_2) - 1) + \\varepsilon_2*u_1*(-exp(2*d*u_1) - exp(2*h_2*u_2) - exp(2*d*u_1 + 2*h_2*u_2) - 1))*exp(-d*u_1)*exp(u_1*z)/(\\varepsilon_1*u_2*(exp(2*h_1*u_1) - exp(2*h_2*u_2) - exp(2*h_1*u_1 + 2*h_2*u_2) + 1) + \\varepsilon_2*u_1*(-exp(2*h_1*u_1) + exp(2*h_2*u_2) - exp(2*h_1*u_1 + 2*h_2*u_2) + 1)) + exp(-u_1*Abs(d - z)))"
      ],
      "text/latex": "$\\displaystyle T_{1} \\left(- \\frac{\\left(e^{2 d u_{1}} e^{- 2 h_{1} u_{1}} + 1\\right) \\left(\\varepsilon_1 u_{2} \\left(e^{2 h_{2} u_{2}} - 1\\right) + \\varepsilon_2 u_{1} \\left(- e^{2 h_{2} u_{2}} - 1\\right)\\right) e^{- d u_{1}} e^{2 h_{1} u_{1}} e^{- u_{1} z}}{\\varepsilon_1 u_{2} \\left(e^{2 h_{1} u_{1}} e^{2 h_{2} u_{2}} - e^{2 h_{1} u_{1}} + e^{2 h_{2} u_{2}} - 1\\right) + \\varepsilon_2 u_{1} \\left(e^{2 h_{1} u_{1}} e^{2 h_{2} u_{2}} + e^{2 h_{1} u_{1}} - e^{2 h_{2} u_{2}} - 1\\right)} + \\frac{\\left(\\varepsilon_1 u_{2} \\left(e^{2 d u_{1}} + e^{2 h_{2} u_{2}} - e^{2 d u_{1} + 2 h_{2} u_{2}} - 1\\right) + \\varepsilon_2 u_{1} \\left(- e^{2 d u_{1}} - e^{2 h_{2} u_{2}} - e^{2 d u_{1} + 2 h_{2} u_{2}} - 1\\right)\\right) e^{- d u_{1}} e^{u_{1} z}}{\\varepsilon_1 u_{2} \\left(e^{2 h_{1} u_{1}} - e^{2 h_{2} u_{2}} - e^{2 h_{1} u_{1} + 2 h_{2} u_{2}} + 1\\right) + \\varepsilon_2 u_{1} \\left(- e^{2 h_{1} u_{1}} + e^{2 h_{2} u_{2}} - e^{2 h_{1} u_{1} + 2 h_{2} u_{2}} + 1\\right)} + e^{- u_{1} \\left|{d - z}\\right|}\\right)$"
     },
     "metadata": {},
     "execution_count": 48
    }
   ],
   "source": [
    "Ez1_z = collect(simplify(Ez1.subs({A1: A1_dp, B1:B1_dp})), [T1, e1*u2, e2*u1])\n",
    "Ez1_z"
   ]
  },
  {
   "cell_type": "code",
   "execution_count": 42,
   "metadata": {},
   "outputs": [
    {
     "output_type": "execute_result",
     "data": {
      "text/plain": [
       "A_2*exp(-u_2*z) + B_2*exp(u_2*z)"
      ],
      "text/latex": "$\\displaystyle A_{2} e^{- u_{2} z} + B_{2} e^{u_{2} z}$"
     },
     "metadata": {},
     "execution_count": 42
    }
   ],
   "source": [
    "Ez2"
   ]
  },
  {
   "cell_type": "code",
   "execution_count": 40,
   "metadata": {},
   "outputs": [
    {
     "output_type": "execute_result",
     "data": {
      "text/plain": [
       "exp(d*u_1)*exp(-d*u_1 + 2*h_2*u_2)"
      ],
      "text/latex": "$\\displaystyle e^{d u_{1}} e^{- d u_{1} + 2 h_{2} u_{2}}$"
     },
     "metadata": {},
     "execution_count": 40
    }
   ],
   "source": [
    "B2_dp/A2_dp"
   ]
  },
  {
   "cell_type": "code",
   "execution_count": 46,
   "metadata": {},
   "outputs": [
    {
     "output_type": "execute_result",
     "data": {
      "text/plain": [
       "-2*T_1*\\varepsilon_1*u_1*(exp(2*d*u_1) + exp(2*h_1*u_1))*(exp(2*u_2*(h_2 + z)) + 1)*exp(-d*u_1 - u_2*z)/(\\varepsilon_1*u_2*(exp(2*h_1*u_1) - exp(2*h_2*u_2) - exp(2*h_1*u_1 + 2*h_2*u_2) + 1) + \\varepsilon_2*u_1*(-exp(2*h_1*u_1) + exp(2*h_2*u_2) - exp(2*h_1*u_1 + 2*h_2*u_2) + 1))"
      ],
      "text/latex": "$\\displaystyle - \\frac{2 T_{1} \\varepsilon_1 u_{1} \\left(e^{2 d u_{1}} + e^{2 h_{1} u_{1}}\\right) \\left(e^{2 u_{2} \\left(h_{2} + z\\right)} + 1\\right) e^{- d u_{1} - u_{2} z}}{\\varepsilon_1 u_{2} \\left(e^{2 h_{1} u_{1}} - e^{2 h_{2} u_{2}} - e^{2 h_{1} u_{1} + 2 h_{2} u_{2}} + 1\\right) + \\varepsilon_2 u_{1} \\left(- e^{2 h_{1} u_{1}} + e^{2 h_{2} u_{2}} - e^{2 h_{1} u_{1} + 2 h_{2} u_{2}} + 1\\right)}$"
     },
     "metadata": {},
     "execution_count": 46
    }
   ],
   "source": [
    "Ez2_z = collect(simplify(Ez2.subs(A2, A2_dp).subs(B2, B2_dp)), [T1, e1*u2, e2*u1])\n",
    "Ez2_z"
   ]
  },
  {
   "cell_type": "code",
   "execution_count": null,
   "metadata": {},
   "outputs": [],
   "source": []
  }
 ]
}