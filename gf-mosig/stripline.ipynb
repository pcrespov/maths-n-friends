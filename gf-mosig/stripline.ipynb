{
 "metadata": {
  "language_info": {
   "codemirror_mode": {
    "name": "ipython",
    "version": 3
   },
   "file_extension": ".py",
   "mimetype": "text/x-python",
   "name": "python",
   "nbconvert_exporter": "python",
   "pygments_lexer": "ipython3",
   "version": "3.8.1-final"
  },
  "orig_nbformat": 2,
  "kernelspec": {
   "name": "python3",
   "display_name": "Python 3"
  }
 },
 "nbformat": 4,
 "nbformat_minor": 2,
 "cells": [
  {
   "cell_type": "code",
   "execution_count": 8,
   "metadata": {},
   "outputs": [],
   "source": [
    "from sympy import *"
   ]
  },
  {
   "cell_type": "code",
   "execution_count": 9,
   "metadata": {},
   "outputs": [],
   "source": [
    "A1, B1, A2, B2 = symbols('A_1 B_1 A_2 B_2')"
   ]
  },
  {
   "cell_type": "code",
   "execution_count": 13,
   "metadata": {},
   "outputs": [],
   "source": [
    "u1, h1, d, u2, h2, e1, e2, T1 = symbols('u_1 h_1 d u_2 h_2 \\epsilon_1 \\epsilon_2 T_1')"
   ]
  },
  {
   "cell_type": "code",
   "execution_count": 14,
   "metadata": {},
   "outputs": [],
   "source": [
    "eqns = [\n",
    "    -u1*A1*exp(-u1*h1) + u1*B1*exp(u1*h1) - u1*T1*exp(-u1*(h1-d)), \n",
    "    -u2*A2*exp(u2*h2)+u2*B2*exp(-u2*h2),\n",
    "    e1*(A1+B1+T1*exp(-u1*d)) - e2*(A2+B2),\n",
    "    -u1*A1+u1+u1*T1*exp(-u1*d) + u2*A2 - u2*B2\n",
    "]"
   ]
  },
  {
   "cell_type": "code",
   "execution_count": 15,
   "metadata": {},
   "outputs": [
    {
     "output_type": "execute_result",
     "data": {
      "text/plain": [
       "FiniteSet(((T_1*\\epsilon_1*u_2*exp(2*d*u_1) + T_1*\\epsilon_1*u_2*exp(2*h_1*u_1) - T_1*\\epsilon_1*u_2*exp(2*d*u_1 + 2*h_2*u_2) - T_1*\\epsilon_1*u_2*exp(2*h_1*u_1 + 2*h_2*u_2) + T_1*\\epsilon_2*u_1*exp(2*h_1*u_1) + T_1*\\epsilon_2*u_1*exp(2*h_1*u_1 + 2*h_2*u_2) + \\epsilon_2*u_1*exp(u_1*(d + 2*h_1)) + \\epsilon_2*u_1*exp(d*u_1 + 2*h_1*u_1 + 2*h_2*u_2))*exp(-d*u_1)/(-\\epsilon_1*u_2*exp(2*h_1*u_1) + \\epsilon_1*u_2*exp(2*h_2*u_2) + \\epsilon_1*u_2*exp(2*h_1*u_1 + 2*h_2*u_2) - \\epsilon_1*u_2 + \\epsilon_2*u_1*exp(2*h_1*u_1) + \\epsilon_2*u_1*exp(2*h_1*u_1 + 2*h_2*u_2)), (-T_1*\\epsilon_1*u_2*exp(2*d*u_1) - T_1*\\epsilon_1*u_2*exp(2*h_2*u_2) + T_1*\\epsilon_1*u_2*exp(2*d*u_1 + 2*h_2*u_2) + T_1*\\epsilon_1*u_2 + T_1*\\epsilon_2*u_1*exp(2*d*u_1) + T_1*\\epsilon_2*u_1*exp(2*h_2*u_2) + T_1*\\epsilon_2*u_1*exp(2*d*u_1 + 2*h_2*u_2) + T_1*\\epsilon_2*u_1 + \\epsilon_2*u_1*exp(d*u_1) + \\epsilon_2*u_1*exp(d*u_1 + 2*h_2*u_2))*exp(-d*u_1)/(-\\epsilon_1*u_2*exp(2*h_1*u_1) + \\epsilon_1*u_2*exp(2*h_2*u_2) + \\epsilon_1*u_2*exp(2*h_1*u_1 + 2*h_2*u_2) - \\epsilon_1*u_2 + \\epsilon_2*u_1*exp(2*h_1*u_1) + \\epsilon_2*u_1*exp(2*h_1*u_1 + 2*h_2*u_2)), \\epsilon_1*u_1*(T_1*exp(2*d*u_1) + 2*T_1*exp(2*h_1*u_1) + T_1 + exp(d*u_1) + exp(u_1*(d + 2*h_1)))*exp(-d*u_1)/(-\\epsilon_1*u_2*exp(2*h_1*u_1) + \\epsilon_1*u_2*exp(2*h_2*u_2) + \\epsilon_1*u_2*exp(2*h_1*u_1 + 2*h_2*u_2) - \\epsilon_1*u_2 + \\epsilon_2*u_1*exp(2*h_1*u_1) + \\epsilon_2*u_1*exp(2*h_1*u_1 + 2*h_2*u_2)), \\epsilon_1*u_1*(T_1*exp(2*d*u_1) + 2*T_1*exp(2*h_1*u_1) + T_1 + exp(d*u_1) + exp(u_1*(d + 2*h_1)))*exp(-d*u_1 + 2*h_2*u_2)/(-\\epsilon_1*u_2*exp(2*h_1*u_1) + \\epsilon_1*u_2*exp(2*h_2*u_2) + \\epsilon_1*u_2*exp(2*h_1*u_1 + 2*h_2*u_2) - \\epsilon_1*u_2 + \\epsilon_2*u_1*exp(2*h_1*u_1) + \\epsilon_2*u_1*exp(2*h_1*u_1 + 2*h_2*u_2))))"
      ],
      "text/latex": "$\\displaystyle \\left\\{\\left( \\frac{\\left(T_{1} \\epsilon_1 u_{2} e^{2 d u_{1}} + T_{1} \\epsilon_1 u_{2} e^{2 h_{1} u_{1}} - T_{1} \\epsilon_1 u_{2} e^{2 d u_{1} + 2 h_{2} u_{2}} - T_{1} \\epsilon_1 u_{2} e^{2 h_{1} u_{1} + 2 h_{2} u_{2}} + T_{1} \\epsilon_2 u_{1} e^{2 h_{1} u_{1}} + T_{1} \\epsilon_2 u_{1} e^{2 h_{1} u_{1} + 2 h_{2} u_{2}} + \\epsilon_2 u_{1} e^{u_{1} \\left(d + 2 h_{1}\\right)} + \\epsilon_2 u_{1} e^{d u_{1} + 2 h_{1} u_{1} + 2 h_{2} u_{2}}\\right) e^{- d u_{1}}}{- \\epsilon_1 u_{2} e^{2 h_{1} u_{1}} + \\epsilon_1 u_{2} e^{2 h_{2} u_{2}} + \\epsilon_1 u_{2} e^{2 h_{1} u_{1} + 2 h_{2} u_{2}} - \\epsilon_1 u_{2} + \\epsilon_2 u_{1} e^{2 h_{1} u_{1}} + \\epsilon_2 u_{1} e^{2 h_{1} u_{1} + 2 h_{2} u_{2}}}, \\  \\frac{\\left(- T_{1} \\epsilon_1 u_{2} e^{2 d u_{1}} - T_{1} \\epsilon_1 u_{2} e^{2 h_{2} u_{2}} + T_{1} \\epsilon_1 u_{2} e^{2 d u_{1} + 2 h_{2} u_{2}} + T_{1} \\epsilon_1 u_{2} + T_{1} \\epsilon_2 u_{1} e^{2 d u_{1}} + T_{1} \\epsilon_2 u_{1} e^{2 h_{2} u_{2}} + T_{1} \\epsilon_2 u_{1} e^{2 d u_{1} + 2 h_{2} u_{2}} + T_{1} \\epsilon_2 u_{1} + \\epsilon_2 u_{1} e^{d u_{1}} + \\epsilon_2 u_{1} e^{d u_{1} + 2 h_{2} u_{2}}\\right) e^{- d u_{1}}}{- \\epsilon_1 u_{2} e^{2 h_{1} u_{1}} + \\epsilon_1 u_{2} e^{2 h_{2} u_{2}} + \\epsilon_1 u_{2} e^{2 h_{1} u_{1} + 2 h_{2} u_{2}} - \\epsilon_1 u_{2} + \\epsilon_2 u_{1} e^{2 h_{1} u_{1}} + \\epsilon_2 u_{1} e^{2 h_{1} u_{1} + 2 h_{2} u_{2}}}, \\  \\frac{\\epsilon_1 u_{1} \\left(T_{1} e^{2 d u_{1}} + 2 T_{1} e^{2 h_{1} u_{1}} + T_{1} + e^{d u_{1}} + e^{u_{1} \\left(d + 2 h_{1}\\right)}\\right) e^{- d u_{1}}}{- \\epsilon_1 u_{2} e^{2 h_{1} u_{1}} + \\epsilon_1 u_{2} e^{2 h_{2} u_{2}} + \\epsilon_1 u_{2} e^{2 h_{1} u_{1} + 2 h_{2} u_{2}} - \\epsilon_1 u_{2} + \\epsilon_2 u_{1} e^{2 h_{1} u_{1}} + \\epsilon_2 u_{1} e^{2 h_{1} u_{1} + 2 h_{2} u_{2}}}, \\  \\frac{\\epsilon_1 u_{1} \\left(T_{1} e^{2 d u_{1}} + 2 T_{1} e^{2 h_{1} u_{1}} + T_{1} + e^{d u_{1}} + e^{u_{1} \\left(d + 2 h_{1}\\right)}\\right) e^{- d u_{1} + 2 h_{2} u_{2}}}{- \\epsilon_1 u_{2} e^{2 h_{1} u_{1}} + \\epsilon_1 u_{2} e^{2 h_{2} u_{2}} + \\epsilon_1 u_{2} e^{2 h_{1} u_{1} + 2 h_{2} u_{2}} - \\epsilon_1 u_{2} + \\epsilon_2 u_{1} e^{2 h_{1} u_{1}} + \\epsilon_2 u_{1} e^{2 h_{1} u_{1} + 2 h_{2} u_{2}}}\\right)\\right\\}$"
     },
     "metadata": {},
     "execution_count": 15
    }
   ],
   "source": [
    "linsolve(eqns, A1, B1, A2, B2)"
   ]
  },
  {
   "cell_type": "code",
   "execution_count": null,
   "metadata": {},
   "outputs": [],
   "source": []
  }
 ]
}