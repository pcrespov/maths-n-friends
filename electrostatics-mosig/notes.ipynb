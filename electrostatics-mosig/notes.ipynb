{
 "cells": [
  {
   "cell_type": "code",
   "execution_count": null,
   "metadata": {},
   "outputs": [],
   "source": [
    "from test_mosig import discrete_green_function, run_static_plate\n",
    "\n",
    "\n",
    "# discrete_green_function(xc=0, yc=0, zc=0, a=1, b=1)\n",
    "run_static_plate()"
   ]
  },
  {
   "cell_type": "code",
   "execution_count": 4,
   "metadata": {},
   "outputs": [
    {
     "name": "stdout",
     "output_type": "stream",
     "text": [
      "integral_result_uv=Integral(asinh(u/sqrt(polar_lift(h**2 + v**2))), v)\n",
      "Integral Result (Rewritten):\n",
      "Integral(asinh(u/sqrt(polar_lift(h**2 + v**2))), v)\n"
     ]
    }
   ],
   "source": [
    "import sympy as sp\n",
    "\n",
    "# Define symbols\n",
    "u, v, h = sp.symbols('u v h')\n",
    "\n",
    "# Define the expression\n",
    "expression = 1 / sp.sqrt(u**2 + v**2 + h**2)\n",
    "\n",
    "# Integrate the expression\n",
    "integral_result_u = sp.integrate(expression, u)\n",
    "integral_result_uv = sp.integrate(integral_result_u, v) #, (u, -sp.oo, sp.oo), (v, -sp.oo, sp.oo))\n",
    "\n",
    "print(f\"{integral_result_uv=}\")\n",
    "# Rewrite the result in terms of arcsinh and arctan\n",
    "integral_result_rewritten = integral_result_uv.rewrite(sp.asinh).rewrite(sp.atan)\n",
    "\n",
    "print(\"Integral Result (Rewritten):\")\n",
    "print(integral_result_rewritten)\n",
    "\n",
    "\n"
   ]
  },
  {
   "cell_type": "code",
   "execution_count": null,
   "metadata": {},
   "outputs": [],
   "source": []
  }
 ],
 "metadata": {
  "kernelspec": {
   "display_name": ".venv",
   "language": "python",
   "name": "python3"
  },
  "language_info": {
   "codemirror_mode": {
    "name": "ipython",
    "version": 3
   },
   "file_extension": ".py",
   "mimetype": "text/x-python",
   "name": "python",
   "nbconvert_exporter": "python",
   "pygments_lexer": "ipython3",
   "version": "3.8.1"
  },
  "orig_nbformat": 4
 },
 "nbformat": 4,
 "nbformat_minor": 2
}
