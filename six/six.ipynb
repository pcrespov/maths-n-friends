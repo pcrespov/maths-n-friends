{
 "metadata": {
  "language_info": {
   "codemirror_mode": {
    "name": "ipython",
    "version": 3
   },
   "file_extension": ".py",
   "mimetype": "text/x-python",
   "name": "python",
   "nbconvert_exporter": "python",
   "pygments_lexer": "ipython3",
   "version": "3.8.1"
  },
  "orig_nbformat": 2,
  "kernelspec": {
   "name": "pythonjvsc74a57bd0cc4265269735842f77df413b7fb86d4d75c5f3c4dc296ddfa1b7dccf685f78ea",
   "display_name": "Python 3.8.1 64-bit ('.venv': venv)"
  },
  "metadata": {
   "interpreter": {
    "hash": "cc4265269735842f77df413b7fb86d4d75c5f3c4dc296ddfa1b7dccf685f78ea"
   }
  }
 },
 "nbformat": 4,
 "nbformat_minor": 2,
 "cells": [
  {
   "source": [
    "# Get Six\n",
    "\n",
    "\n",
    "<div>\n",
    "<img src=\"index.jpg\" width=\"200\">\n",
    "</div>\n"
   ],
   "cell_type": "markdown",
   "metadata": {}
  },
  {
   "source": [
    "from IPython.display import display, Math, Latex\n",
    "\n",
    "from operator import add, sub, mul\n",
    "import itertools\n",
    "from functools import partial\n",
    "import math\n",
    "\n",
    "\n",
    "N_MAX = 10\n",
    "\n",
    "DISPLAY_LATEX = True # NOTE: for some reason, latex does not display well in github\n",
    "latex = {}\n",
    "\n",
    "# binary operators\n",
    "ops2 = [add, sub, mul]\n",
    "\n",
    "def divide(x,y):\n",
    "    return x/y\n",
    "\n",
    "latex[\"add\"] = \"+\"\n",
    "latex[\"sub\"] = \"-\"\n",
    "latex[\"mul\"] = \"*\"\n",
    "latex[\"divide\"] = \"/\"\n",
    "\n",
    "ops2.append(divide)\n",
    "\n",
    "# unary operators\n",
    "ops1 = [ ]\n",
    "\n",
    "def id(x):\n",
    "    return x\n",
    "\n",
    "latex[id.__name__] = \"\"\n",
    "\n",
    "def logn(x, *, base):\n",
    "    return math.log(x, base)\n",
    "\n",
    "\n",
    "ops1.append(id)\n",
    "\n",
    "\n",
    "for n in range(2, 100):\n",
    "    f = partial(pow, exp=n)\n",
    "    f.__name__ = f\"pow{n}\"\n",
    "    latex[f.__name__] = f\"\\\\pow^{{{n}}}\"\n",
    "    ops1.append(f)\n",
    "\n",
    "    g = partial(pow, exp=1./n)\n",
    "    g.__name__ = f\"sqrt[{n}]\"\n",
    "    latex[g.__name__] = f\"\\\\sqrt[{n}]\"\n",
    "    ops1.append(g)\n",
    "\n",
    "    h = partial(logn, base=n)\n",
    "    h.__name__ = f\"log_{n}\"\n",
    "    latex[h.__name__] = f\"\\\\log_{{{n}}}\"\n",
    "    ops1.append(h)\n",
    "\n",
    "\n",
    "for n in range(1, N_MAX):\n",
    "    for op1, op2, f in itertools.product(ops2, ops2, ops1):\n",
    "        try:\n",
    "            m = f(n)\n",
    "            res = op1(m, op2(m, m))\n",
    "            if abs(res-6)<1E-6:\n",
    "                \n",
    "                if DISPLAY_LATEX:\n",
    "                    expr1 = f\"{latex[f.__name__]}{n}\"\n",
    "                    expr = f\"{expr1}{latex[op1.__name__]}({expr1}{latex[op2.__name__]}{expr1}) = 6 \\\\\\\\\"\n",
    "                    display(Math(expr))\n",
    "                else:\n",
    "                    print(f\"{n:2d}:  {f.__name__}({n}) -> {op1.__name__}({m}, {op2.__name__}({m}, {m})) = {res}\")\n",
    "        except ZeroDivisionError:\n",
    "            pass\n",
    "    \n"
   ],
   "cell_type": "code",
   "metadata": {},
   "execution_count": 2,
   "outputs": [
    {
     "output_type": "display_data",
     "data": {
      "text/plain": "<IPython.core.display.Math object>",
      "text/latex": "$\\displaystyle 2+(2+2) = 6 \\\\$"
     },
     "metadata": {}
    },
    {
     "output_type": "display_data",
     "data": {
      "text/plain": "<IPython.core.display.Math object>",
      "text/latex": "$\\displaystyle 2+(2*2) = 6 \\\\$"
     },
     "metadata": {}
    },
    {
     "output_type": "display_data",
     "data": {
      "text/plain": "<IPython.core.display.Math object>",
      "text/latex": "$\\displaystyle \\log_{64}2/(\\log_{64}2*\\log_{64}2) = 6 \\\\$"
     },
     "metadata": {}
    },
    {
     "output_type": "display_data",
     "data": {
      "text/plain": "<IPython.core.display.Math object>",
      "text/latex": "$\\displaystyle \\sqrt[2]3*(\\sqrt[2]3+\\sqrt[2]3) = 6 \\\\$"
     },
     "metadata": {}
    },
    {
     "output_type": "display_data",
     "data": {
      "text/plain": "<IPython.core.display.Math object>",
      "text/latex": "$\\displaystyle \\sqrt[2]4+(\\sqrt[2]4+\\sqrt[2]4) = 6 \\\\$"
     },
     "metadata": {}
    },
    {
     "output_type": "display_data",
     "data": {
      "text/plain": "<IPython.core.display.Math object>",
      "text/latex": "$\\displaystyle \\log_{2}4+(\\log_{2}4+\\log_{2}4) = 6 \\\\$"
     },
     "metadata": {}
    },
    {
     "output_type": "display_data",
     "data": {
      "text/plain": "<IPython.core.display.Math object>",
      "text/latex": "$\\displaystyle \\sqrt[2]4+(\\sqrt[2]4*\\sqrt[2]4) = 6 \\\\$"
     },
     "metadata": {}
    },
    {
     "output_type": "display_data",
     "data": {
      "text/plain": "<IPython.core.display.Math object>",
      "text/latex": "$\\displaystyle \\log_{2}4+(\\log_{2}4*\\log_{2}4) = 6 \\\\$"
     },
     "metadata": {}
    },
    {
     "output_type": "display_data",
     "data": {
      "text/plain": "<IPython.core.display.Math object>",
      "text/latex": "$\\displaystyle 5+(5/5) = 6 \\\\$"
     },
     "metadata": {}
    },
    {
     "output_type": "display_data",
     "data": {
      "text/plain": "<IPython.core.display.Math object>",
      "text/latex": "$\\displaystyle 6+(6-6) = 6 \\\\$"
     },
     "metadata": {}
    },
    {
     "output_type": "display_data",
     "data": {
      "text/plain": "<IPython.core.display.Math object>",
      "text/latex": "$\\displaystyle 6-(6-6) = 6 \\\\$"
     },
     "metadata": {}
    },
    {
     "output_type": "display_data",
     "data": {
      "text/plain": "<IPython.core.display.Math object>",
      "text/latex": "$\\displaystyle \\sqrt[3]6*(\\sqrt[3]6*\\sqrt[3]6) = 6 \\\\$"
     },
     "metadata": {}
    },
    {
     "output_type": "display_data",
     "data": {
      "text/plain": "<IPython.core.display.Math object>",
      "text/latex": "$\\displaystyle 6*(6/6) = 6 \\\\$"
     },
     "metadata": {}
    },
    {
     "output_type": "display_data",
     "data": {
      "text/plain": "<IPython.core.display.Math object>",
      "text/latex": "$\\displaystyle 6/(6/6) = 6 \\\\$"
     },
     "metadata": {}
    },
    {
     "output_type": "display_data",
     "data": {
      "text/plain": "<IPython.core.display.Math object>",
      "text/latex": "$\\displaystyle 7-(7/7) = 6 \\\\$"
     },
     "metadata": {}
    },
    {
     "output_type": "display_data",
     "data": {
      "text/plain": "<IPython.core.display.Math object>",
      "text/latex": "$\\displaystyle \\sqrt[3]8+(\\sqrt[3]8+\\sqrt[3]8) = 6 \\\\$"
     },
     "metadata": {}
    },
    {
     "output_type": "display_data",
     "data": {
      "text/plain": "<IPython.core.display.Math object>",
      "text/latex": "$\\displaystyle \\sqrt[3]8+(\\sqrt[3]8*\\sqrt[3]8) = 6 \\\\$"
     },
     "metadata": {}
    },
    {
     "output_type": "display_data",
     "data": {
      "text/plain": "<IPython.core.display.Math object>",
      "text/latex": "$\\displaystyle \\log_{3}9+(\\log_{3}9+\\log_{3}9) = 6 \\\\$"
     },
     "metadata": {}
    },
    {
     "output_type": "display_data",
     "data": {
      "text/plain": "<IPython.core.display.Math object>",
      "text/latex": "$\\displaystyle \\log_{3}9+(\\log_{3}9*\\log_{3}9) = 6 \\\\$"
     },
     "metadata": {}
    },
    {
     "output_type": "display_data",
     "data": {
      "text/plain": "<IPython.core.display.Math object>",
      "text/latex": "$\\displaystyle \\sqrt[4]9*(\\sqrt[4]9+\\sqrt[4]9) = 6 \\\\$"
     },
     "metadata": {}
    }
   ]
  },
  {
   "cell_type": "code",
   "execution_count": null,
   "metadata": {},
   "outputs": [],
   "source": []
  }
 ]
}