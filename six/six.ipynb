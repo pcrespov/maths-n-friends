{
 "metadata": {
  "language_info": {
   "codemirror_mode": {
    "name": "ipython",
    "version": 3
   },
   "file_extension": ".py",
   "mimetype": "text/x-python",
   "name": "python",
   "nbconvert_exporter": "python",
   "pygments_lexer": "ipython3",
   "version": "3.8.1"
  },
  "orig_nbformat": 2,
  "kernelspec": {
   "name": "pythonjvsc74a57bd0cc4265269735842f77df413b7fb86d4d75c5f3c4dc296ddfa1b7dccf685f78ea",
   "display_name": "Python 3.8.1 64-bit ('.venv': venv)"
  },
  "metadata": {
   "interpreter": {
    "hash": "cc4265269735842f77df413b7fb86d4d75c5f3c4dc296ddfa1b7dccf685f78ea"
   }
  }
 },
 "nbformat": 4,
 "nbformat_minor": 2,
 "cells": [
  {
   "source": [
    "# Get Six\n",
    "\n",
    "\n",
    "<div>\n",
    "<img src=\"index.jpg\" width=\"200\">\n",
    "</div>\n"
   ],
   "cell_type": "markdown",
   "metadata": {}
  },
  {
   "source": [
    "from IPython.display import display, Math, Latex\n",
    "\n",
    "from operator import add, sub, mul\n",
    "import itertools\n",
    "from functools import partial\n",
    "import math\n",
    "\n",
    "\n",
    "N_MAX = 10\n",
    "\n",
    "DISPLAY_LATEX = False # NOTE: for some reason, latex does not display well in github\n",
    "latex = {}\n",
    "\n",
    "# binary operators\n",
    "ops2 = [add, sub, mul]\n",
    "\n",
    "def divide(x,y):\n",
    "    return x/y\n",
    "\n",
    "latex[\"add\"] = \"+\"\n",
    "latex[\"sub\"] = \"-\"\n",
    "latex[\"mul\"] = \"*\"\n",
    "latex[\"divide\"] = \"/\"\n",
    "\n",
    "ops2.append(divide)\n",
    "\n",
    "# unary operators\n",
    "ops1 = [ ]\n",
    "\n",
    "def id(x):\n",
    "    return x\n",
    "\n",
    "latex[id.__name__] = \"\"\n",
    "\n",
    "def logn(x, *, base):\n",
    "    return math.log(x, base)\n",
    "\n",
    "\n",
    "ops1.append(id)\n",
    "\n",
    "\n",
    "for n in range(2, 100):\n",
    "    f = partial(pow, exp=n)\n",
    "    f.__name__ = f\"pow{n}\"\n",
    "    latex[f.__name__] = f\"\\\\pow^{{{n}}}\"\n",
    "    ops1.append(f)\n",
    "\n",
    "    g = partial(pow, exp=1./n)\n",
    "    g.__name__ = f\"sqrt[{n}]\"\n",
    "    latex[g.__name__] = f\"\\\\sqrt[{n}]\"\n",
    "    ops1.append(g)\n",
    "\n",
    "    h = partial(logn, base=n)\n",
    "    h.__name__ = f\"log_{n}\"\n",
    "    latex[h.__name__] = f\"\\\\log_{{{n}}}\"\n",
    "    ops1.append(h)\n",
    "\n",
    "\n",
    "for n in range(1, N_MAX):\n",
    "    for op1, op2, f in itertools.product(ops2, ops2, ops1):\n",
    "        try:\n",
    "            m = f(n)\n",
    "            res = op1(m, op2(m, m))\n",
    "            if abs(res-6)<1E-6:\n",
    "                \n",
    "                if DISPLAY_LATEX:\n",
    "                    expr1 = f\"{latex[f.__name__]}{n}\"\n",
    "                    expr = f\"{expr1}{latex[op1.__name__]}({expr1}{latex[op2.__name__]}{expr1}) = 6 \\\\\\\\\"\n",
    "                    display(Math(expr))\n",
    "                else:\n",
    "                    print(f\"{n:2d}:  {f.__name__}({n}) -> {op1.__name__}({m}, {op2.__name__}({m}, {m})) = {res}\")\n",
    "        except ZeroDivisionError:\n",
    "            pass\n",
    "    \n"
   ],
   "cell_type": "code",
   "metadata": {},
   "execution_count": 1,
   "outputs": [
    {
     "output_type": "stream",
     "name": "stdout",
     "text": [
      " 2:  id(2) -> add(2, add(2, 2)) = 6\n 2:  id(2) -> add(2, mul(2, 2)) = 6\n 2:  log_64(2) -> divide(0.16666666666666669, mul(0.16666666666666669, 0.16666666666666669)) = 5.999999999999999\n 3:  sqrt[2](3) -> mul(1.7320508075688772, add(1.7320508075688772, 1.7320508075688772)) = 5.999999999999999\n 4:  sqrt[2](4) -> add(2.0, add(2.0, 2.0)) = 6.0\n 4:  log_2(4) -> add(2.0, add(2.0, 2.0)) = 6.0\n 4:  sqrt[2](4) -> add(2.0, mul(2.0, 2.0)) = 6.0\n 4:  log_2(4) -> add(2.0, mul(2.0, 2.0)) = 6.0\n 5:  id(5) -> add(5, divide(5, 5)) = 6.0\n 6:  id(6) -> add(6, sub(6, 6)) = 6\n 6:  id(6) -> sub(6, sub(6, 6)) = 6\n 6:  sqrt[3](6) -> mul(1.8171205928321397, mul(1.8171205928321397, 1.8171205928321397)) = 6.0\n 6:  id(6) -> mul(6, divide(6, 6)) = 6.0\n 6:  id(6) -> divide(6, divide(6, 6)) = 6.0\n 7:  id(7) -> sub(7, divide(7, 7)) = 6.0\n 8:  sqrt[3](8) -> add(2.0, add(2.0, 2.0)) = 6.0\n 8:  sqrt[3](8) -> add(2.0, mul(2.0, 2.0)) = 6.0\n 9:  log_3(9) -> add(2.0, add(2.0, 2.0)) = 6.0\n 9:  log_3(9) -> add(2.0, mul(2.0, 2.0)) = 6.0\n 9:  sqrt[4](9) -> mul(1.7320508075688772, add(1.7320508075688772, 1.7320508075688772)) = 5.999999999999999\n"
     ]
    }
   ]
  },
  {
   "cell_type": "code",
   "execution_count": null,
   "metadata": {},
   "outputs": [],
   "source": []
  }
 ]
}